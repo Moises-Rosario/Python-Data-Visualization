{
  "nbformat": 4,
  "nbformat_minor": 0,
  "metadata": {
    "colab": {
      "provenance": []
    },
    "kernelspec": {
      "name": "python3",
      "display_name": "Python 3"
    },
    "language_info": {
      "name": "python"
    }
  },
  "cells": [
    {
      "cell_type": "code",
      "execution_count": null,
      "metadata": {
        "colab": {
          "base_uri": "https://localhost:8080/"
        },
        "id": "h5oWkwMYiKno",
        "outputId": "4b8a6983-e122-4d70-f176-39970f04b33b"
      },
      "outputs": [
        {
          "output_type": "stream",
          "name": "stdout",
          "text": [
            "Status code: 200\n",
            "id: 41997823\tstatus: 200\n",
            "id: 41995730\tstatus: 200\n",
            "id: 41992314\tstatus: 200\n",
            "id: 41998453\tstatus: 200\n",
            "id: 41996859\tstatus: 200\n",
            "\n",
            "Title: Australia/Lord_Howe is the weirdest timezone\n",
            "Discussion link: https://news.ycombinator.com/item?id=41992314\n",
            "Comments: 327\n",
            "\n",
            "Title: Pushing the frontiers of audio generation\n",
            "Discussion link: https://news.ycombinator.com/item?id=41995730\n",
            "Comments: 32\n",
            "\n",
            "Title: The Karma Connection in Chrome Web Store\n",
            "Discussion link: https://news.ycombinator.com/item?id=41997823\n",
            "Comments: 13\n",
            "\n",
            "Title: LlamaPReview: AI Github PR Reviewer That Learns Your Codebase\n",
            "Discussion link: https://news.ycombinator.com/item?id=41996859\n",
            "Comments: 8\n",
            "\n",
            "Title: MrBeast Investigation\n",
            "Discussion link: https://news.ycombinator.com/item?id=41998453\n",
            "Comments: 1\n"
          ]
        }
      ],
      "source": [
        "from operator import itemgetter\n",
        "import requests\n",
        "\n",
        "# Make an API call and check the response.\n",
        "url = \"https://hacker-news.firebaseio.com/v0/topstories.json\"\n",
        "r = requests.get(url)\n",
        "print(f\"Status code: {r.status_code}\")\n",
        "\n",
        "# Process information about each submission.\n",
        "submission_ids = r.json()\n",
        "submission_dicts = []\n",
        "for submission_id in submission_ids[:5]:\n",
        "    # Make a new API call for each submission.\n",
        "    url = f\"https://hacker-news.firebaseio.com/v0/item/{submission_id}.json\"\n",
        "    r = requests.get(url)\n",
        "    print(f\"id: {submission_id}\\tstatus: {r.status_code}\")\n",
        "    response_dict = r.json()\n",
        "\n",
        "    # Build a dictionary for each article.\n",
        "    submission_dict = {\n",
        "        'title': response_dict['title'],\n",
        "        'hn_link': f\"https://news.ycombinator.com/item?id={submission_id}\",\n",
        "        'comments': response_dict['descendants'],\n",
        "    }\n",
        "    submission_dicts.append(submission_dict)\n",
        "\n",
        "submission_dicts = sorted(submission_dicts, key=itemgetter('comments'), reverse=True)\n",
        "\n",
        "for submission_dict in submission_dicts:\n",
        "    print(f\"\\nTitle: {submission_dict['title']}\")\n",
        "    print(f\"Discussion link: {submission_dict['hn_link']}\")\n",
        "    print(f\"Comments: {submission_dict['comments']}\")\n"
      ]
    }
  ]
}