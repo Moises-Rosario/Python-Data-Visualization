{
  "nbformat": 4,
  "nbformat_minor": 0,
  "metadata": {
    "colab": {
      "provenance": []
    },
    "kernelspec": {
      "name": "python3",
      "display_name": "Python 3"
    },
    "language_info": {
      "name": "python"
    }
  },
  "cells": [
    {
      "cell_type": "code",
      "execution_count": null,
      "metadata": {
        "colab": {
          "base_uri": "https://localhost:8080/"
        },
        "id": "hWY9Nh1zMmpc",
        "outputId": "2692fbf0-4ef5-4d83-922d-2f51f14f9446"
      },
      "outputs": [
        {
          "output_type": "stream",
          "name": "stdout",
          "text": [
            "[9, 6, 2, 11, 7, 10, 5, 10, 7, 5, 12, 11, 7, 3, 7, 9, 7, 9, 8, 11, 5, 4, 4, 9, 5, 9, 8, 10, 6, 10, 7, 5, 10, 8, 12, 9, 9, 5, 8, 8, 11, 10, 10, 5, 7, 9, 3, 7, 9, 7, 8, 8, 9, 8, 9, 7, 10, 10, 3, 12, 7, 5, 7, 9, 2, 5, 9, 7, 7, 11, 10, 5, 5, 8, 10, 8, 11, 4, 10, 6, 4, 9, 5, 12, 10, 3, 2, 7, 5, 6, 10, 6, 5, 5, 11, 4, 3, 5, 7, 12, 4, 8, 9, 5, 8, 6, 7, 9, 7, 5, 6, 9, 7, 5, 6, 2, 10, 3, 10, 6, 11, 6, 6, 11, 8, 6, 8, 7, 8, 6, 6, 3, 9, 6, 9, 5, 8, 5, 8, 8, 8, 11, 6, 10, 3, 6, 8, 6, 7, 10, 9, 7, 11, 7, 4, 7, 7, 6, 11, 7, 5, 8, 11, 6, 8, 9, 6, 5, 5, 9, 7, 7, 4, 10, 5, 7, 6, 4, 5, 8, 7, 9, 3, 7, 3, 6, 7, 9, 7, 9, 4, 6, 8, 12, 2, 9, 8, 4, 11, 3, 5, 8, 9, 12, 5, 7, 5, 7, 8, 5, 5, 8, 8, 5, 4, 4, 7, 8, 7, 7, 5, 9, 11, 11, 3, 7, 7, 9, 7, 3, 8, 6, 9, 9, 2, 12, 9, 7, 4, 4, 7, 12, 5, 9, 5, 4, 9, 9, 5, 3, 9, 10, 7, 7, 4, 3, 3, 8, 9, 4, 7, 2, 12, 5, 9, 8, 3, 7, 10, 4, 7, 10, 6, 4, 8, 10, 11, 3, 5, 9, 10, 7, 6, 10, 7, 7, 7, 7, 5, 6, 4, 8, 9, 2, 10, 4, 8, 3, 9, 3, 5, 6, 6, 7, 6, 8, 7, 3, 3, 8, 5, 9, 11, 3, 10, 9, 11, 7, 8, 2, 8, 7, 8, 3, 9, 3, 8, 12, 2, 11, 6, 9, 8, 10, 7, 9, 6, 4, 7, 7, 5, 11, 4, 7, 4, 5, 5, 4, 7, 11, 8, 6, 2, 8, 3, 8, 3, 5, 9, 5, 8, 7, 8, 4, 9, 3, 3, 3, 7, 5, 12, 7, 10, 7, 4, 10, 6, 8, 10, 9, 7, 6, 10, 8, 9, 4, 9, 9, 9, 10, 10, 6, 11, 7, 7, 10, 2, 6, 8, 3, 7, 2, 6, 6, 2, 7, 5, 6, 10, 5, 6, 8, 5, 7, 5, 7, 10, 5, 3, 7, 3, 6, 10, 9, 11, 7, 10, 9, 4, 4, 8, 7, 5, 6, 8, 2, 10, 4, 8, 6, 9, 8, 8, 6, 6, 7, 2, 4, 7, 8, 7, 5, 11, 9, 10, 10, 5, 7, 4, 9, 4, 5, 7, 10, 3, 8, 11, 3, 9, 7, 6, 2, 5, 2, 5, 10, 9, 5, 7, 4, 4, 6, 7, 7, 6, 6, 8, 11, 6, 7, 5, 7, 7, 5, 3, 5, 6, 4, 8, 7, 10, 8, 12, 8, 10, 4, 8, 9, 10, 6, 7, 5, 9, 7, 4, 4, 5, 11, 11, 4, 7, 7, 9, 7, 4, 12, 7, 10, 5, 6, 7, 10, 7, 7, 6, 8, 9, 4, 7, 9, 8, 11, 5, 3, 8, 8, 6, 9, 12, 6, 5, 10, 6, 6, 5, 7, 8, 8, 9, 8, 9, 12, 4, 7, 11, 9, 7, 9, 9, 10, 10, 12, 4, 11, 4, 9, 6, 8, 7, 10, 5, 3, 7, 2, 8, 9, 7, 10, 11, 6, 6, 8, 7, 7, 7, 6, 6, 9, 7, 7, 7, 5, 6, 6, 8, 5, 5, 7, 10, 12, 5, 12, 11, 7, 3, 10, 11, 8, 7, 7, 7, 8, 8, 12, 7, 6, 8, 10, 5, 3, 2, 10, 4, 8, 8, 9, 3, 8, 3, 4, 4, 7, 11, 6, 4, 9, 9, 2, 8, 4, 8, 6, 4, 10, 2, 7, 7, 9, 10, 11, 10, 5, 6, 7, 6, 8, 9, 8, 4, 5, 4, 9, 5, 12, 6, 11, 10, 9, 4, 2, 9, 5, 6, 9, 6, 11, 7, 4, 5, 6, 6, 11, 11, 2, 7, 3, 7, 9, 7, 7, 4, 8, 7, 3, 8, 4, 4, 9, 8, 9, 6, 11, 9, 9, 7, 4, 2, 6, 2, 5, 7, 11, 4, 10, 7, 7, 8, 9, 12, 5, 8, 2, 6, 4, 5, 3, 3, 5, 6, 9, 3, 6, 7, 7, 8, 10, 6, 5, 12, 7, 4, 7, 10, 7, 9, 4, 3, 7, 7, 6, 6, 6, 7, 6, 7, 4, 10, 8, 12, 2, 8, 10, 3, 7, 8, 10, 10, 8, 9, 11, 8, 7, 8, 5, 5, 10, 6, 5, 4, 4, 10, 7, 4, 12, 8, 11, 7, 5, 9, 7, 6, 8, 6, 12, 6, 6, 6, 7, 3, 6, 3, 7, 5, 11, 10, 7, 5, 6, 11, 6, 2, 9, 8, 8, 9, 11, 11, 9, 8, 8, 7, 8, 6, 6, 11, 9, 5, 8, 4, 8, 10, 8, 2, 5, 7, 9, 5, 7, 9, 8, 6, 9, 4, 7, 6, 7, 12, 10, 2, 12, 6, 6, 6, 3, 6, 4, 12, 5, 8, 2, 10, 10, 6, 6, 7, 8, 9, 8, 10, 7, 6, 7, 10, 7, 12, 9, 5, 7, 5, 7, 2, 4, 8, 7, 5, 6, 7, 10, 6, 12, 2, 8, 5, 7, 8, 7, 11, 12, 5, 12, 6, 3, 7, 7, 6, 7, 4, 11, 5, 9, 8, 8, 11, 10, 7, 8, 7, 8, 4, 7, 6, 10, 7, 7, 5, 6, 3, 6, 6, 10, 7, 3, 10, 4, 11, 3, 10, 5, 8, 4, 2, 4, 6, 12, 9, 4, 7, 7, 5, 3, 3, 7, 7, 7, 10, 6, 6, 8, 7, 11, 8, 7, 8, 3, 8, 7, 4, 11, 8, 7, 7, 8, 7, 9, 9, 10, 11, 8, 6, 7, 7, 11, 7, 2, 3, 7, 7, 9, 6, 5]\n",
            "[36, 60, 80, 104, 120, 188, 127, 107, 86, 58, 34]\n"
          ]
        }
      ],
      "source": [
        "import pygal\n",
        "from random import randint\n",
        "\n",
        "class Die():\n",
        "    \"\"\"A class representing a single die.\"\"\"\n",
        "    def __init__(self, num_sides=6): # Indented to show it belongs to the class Die\n",
        "        \"\"\"Assume a six-sided die.\"\"\"\n",
        "        self.num_sides = num_sides\n",
        "    def roll(self): # Indented to show it belongs to the class Die\n",
        "        \"\"\"\"Return a random value between 1 and number of sides.\"\"\"\n",
        "        return randint(1, self.num_sides) # Indented to show it's part of the 'roll' method\n",
        "\n",
        "        # Create a D6.\n",
        "# Create two D6 dice.\n",
        "die_1 = Die()\n",
        "die_2 = Die()\n",
        "\n",
        "# Make some rolls, and store results in a list.\n",
        "results = []\n",
        "for roll_num in range(1000):\n",
        "  result = die_1.roll() + die_2.roll()\n",
        "  results.append(result)\n",
        "print(results)\n",
        "\n",
        "\n",
        "# Analyze the results.\n",
        "frequencies = []\n",
        "max_result = die_1.num_sides + die_2.num_sides\n",
        "for value in range(2, max_result+1):\n",
        "  frequency = results.count(value)\n",
        "  frequencies.append(frequency)\n",
        "print(frequencies)\n",
        "\n",
        "# Visualize the results.\n",
        "hist = pygal.Bar()\n",
        "hist.title = \"Results of rolling two D6 dice 1000 times.\"\n",
        "hist.x_labels = ['2', '3', '4', '5', '6', '7', '8', '9', '10', '11', '12']\n",
        "hist.x_title = \"Result\"\n",
        "hist.y_title = \"Frequency of Result\"\n",
        "hist.add('D6 + D6', frequencies)\n",
        "hist.render_to_file('die_visual.svg')\n",
        "\n",
        "# The pygal.Bar object doesn't have a write_html method.\n",
        "# Use render_to_file to save as an HTML file instead.\n",
        "hist.render_to_file('dice_visual_d6d10.html') # Changed from write_html to render_to_file to save as HTML\n",
        "\n",
        "\n",
        "\n",
        "\n"
      ]
    },
    {
      "cell_type": "code",
      "source": [],
      "metadata": {
        "id": "xeLNkeB9XHoT"
      },
      "execution_count": null,
      "outputs": []
    }
  ]
}